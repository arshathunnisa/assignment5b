{
 "cells": [
  {
   "cell_type": "code",
   "execution_count": 1,
   "id": "e97f4586",
   "metadata": {},
   "outputs": [
    {
     "name": "stdout",
     "output_type": "stream",
     "text": [
      "teen_age 20\n"
     ]
    }
   ],
   "source": [
    "teen_age=20\n",
    "if teen_age > 18 :\n",
    "    print(\"teen_age\",teen_age)\n"
   ]
  },
  {
   "cell_type": "code",
   "execution_count": 5,
   "id": "1f05c141",
   "metadata": {},
   "outputs": [
    {
     "name": "stdout",
     "output_type": "stream",
     "text": [
      "young_age 30\n"
     ]
    }
   ],
   "source": [
    "young_age=30\n",
    "if young_age > 29 :\n",
    "    print(\"young_age\",young_age)"
   ]
  },
  {
   "cell_type": "code",
   "execution_count": 10,
   "id": "1618b45e",
   "metadata": {},
   "outputs": [
    {
     "name": "stdout",
     "output_type": "stream",
     "text": [
      "teen_age 10\n"
     ]
    }
   ],
   "source": [
    "my_age=10\n",
    "if my_age > 5 :\n",
    "    print(\"teen_age\",my_age)"
   ]
  },
  {
   "cell_type": "code",
   "execution_count": 27,
   "id": "c0bc518c",
   "metadata": {},
   "outputs": [
    {
     "name": "stdout",
     "output_type": "stream",
     "text": [
      "young_age 40\n"
     ]
    }
   ],
   "source": [
    "my_age=40\n",
    "if my_age < 50 :\n",
    "    print(\"young_age\",my_age)"
   ]
  },
  {
   "cell_type": "code",
   "execution_count": 25,
   "id": "4f573ce1",
   "metadata": {},
   "outputs": [
    {
     "name": "stdout",
     "output_type": "stream",
     "text": [
      " weekday\n"
     ]
    }
   ],
   "source": [
    "weekday=\"Wednesday\"\n",
    "\n",
    "\n",
    "if weekday==\"Monday\":\n",
    "    print(\" weekday\")\n",
    "\n",
    "elif weekday==\"Tuesday\":\n",
    "    print(\" weekday\")  \n",
    "elif weekday==\"Wednesday\":\n",
    "    print(\" weekday\")  \n",
    "elif weekday==\"Thursday\":\n",
    "    print(\" weekday\")  \n",
    "elif weekday==\"Friday\":\n",
    "    print(\" weekday\")  \n",
    "else:\n",
    "    print(\" weekend\")"
   ]
  },
  {
   "cell_type": "code",
   "execution_count": 33,
   "id": "35bb50f1",
   "metadata": {},
   "outputs": [
    {
     "name": "stdout",
     "output_type": "stream",
     "text": [
      "i lost\n"
     ]
    }
   ],
   "source": [
    "income=10\n",
    "\n",
    "if income>10 :\n",
    "    print(\"i am profitable\")\n",
    "else:\n",
    "    print(\"i lost\")"
   ]
  },
  {
   "cell_type": "code",
   "execution_count": 34,
   "id": "7ff65663",
   "metadata": {},
   "outputs": [
    {
     "name": "stdout",
     "output_type": "stream",
     "text": [
      "i am younger\n"
     ]
    }
   ],
   "source": [
    "my_age=19\n",
    "\n",
    "if my_age>20 :\n",
    "    print(\"i am elder\")\n",
    "else:\n",
    "    print(\"i am younger\")"
   ]
  },
  {
   "cell_type": "code",
   "execution_count": 37,
   "id": "3b7d8f05",
   "metadata": {},
   "outputs": [
    {
     "name": "stdout",
     "output_type": "stream",
     "text": [
      "20% discount\n"
     ]
    }
   ],
   "source": [
    "purchase_amount=100\n",
    "if purchase_amount>100:\n",
    "    print(\"30% discount\")\n",
    "elif purchase_amount<50:\n",
    "    print(\"20% discount\")\n",
    "else:\n",
    "    print(\"20% discount\")"
   ]
  },
  {
   "cell_type": "code",
   "execution_count": 38,
   "id": "026d308d",
   "metadata": {},
   "outputs": [
    {
     "name": "stdout",
     "output_type": "stream",
     "text": [
      "bench\n"
     ]
    }
   ],
   "source": [
    "movie_theater_price=[140,50,100]\n",
    "\n",
    "\n",
    "if movie_theater_price==\"balcony\":\n",
    "    print(\"140\")\n",
    "elif movie_theater_price==\"chair\":\n",
    "    print(\"50\")\n",
    "else:\n",
    "    print(\"bench\")   \n"
   ]
  },
  {
   "cell_type": "code",
   "execution_count": 53,
   "id": "635d5fb4",
   "metadata": {},
   "outputs": [
    {
     "name": "stdout",
     "output_type": "stream",
     "text": [
      "140\n",
      "balcony\n",
      "50\n",
      "chair\n",
      "100\n",
      "bench\n"
     ]
    }
   ],
   "source": [
    "movie_theater_price=[140,50,100]\n",
    "for p in movie_theater_price:\n",
    "    print(p)\n",
    "    if p==140:\n",
    "         print(\"balcony\")\n",
    "    elif p==50:\n",
    "        print(\"chair\")\n",
    "    \n",
    "    else:\n",
    "         print(\"bench\")\n",
    "      "
   ]
  },
  {
   "cell_type": "code",
   "execution_count": 13,
   "id": "bf76d1f7",
   "metadata": {},
   "outputs": [
    {
     "name": "stdout",
     "output_type": "stream",
     "text": [
      "four wheeler \n"
     ]
    }
   ],
   "source": [
    "vehicle =\"car\"\n",
    "if vehicle==\"bike\" or vehicle ==\"scooty\":\n",
    "    print(\"two wheeler\")\n",
    "elif vehicle ==\"car\"or vehicle==\"lorry\" or vehicle==\"van\" or vehicle==\"zeep\":\n",
    "    print(\"four wheeler \")\n",
    "    \n",
    "        \n",
    "    \n",
    "    \n"
   ]
  },
  {
   "cell_type": "code",
   "execution_count": null,
   "id": "6a3f8869",
   "metadata": {},
   "outputs": [],
   "source": []
  },
  {
   "cell_type": "code",
   "execution_count": null,
   "id": "c423688c",
   "metadata": {},
   "outputs": [],
   "source": []
  }
 ],
 "metadata": {
  "kernelspec": {
   "display_name": "Python 3 (ipykernel)",
   "language": "python",
   "name": "python3"
  },
  "language_info": {
   "codemirror_mode": {
    "name": "ipython",
    "version": 3
   },
   "file_extension": ".py",
   "mimetype": "text/x-python",
   "name": "python",
   "nbconvert_exporter": "python",
   "pygments_lexer": "ipython3",
   "version": "3.10.9"
  }
 },
 "nbformat": 4,
 "nbformat_minor": 5
}
